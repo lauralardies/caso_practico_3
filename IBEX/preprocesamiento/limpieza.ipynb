{
 "cells": [
  {
   "cell_type": "markdown",
   "metadata": {},
   "source": [
    "# Preprocesamiento de datos\n",
    "\n",
    "En este cuaderno limpiaremos los datos que hemos obtenido haciendo webscrapping.\n",
    "\n",
    "Primero importamos librerías."
   ]
  },
  {
   "cell_type": "code",
   "execution_count": 1,
   "metadata": {},
   "outputs": [],
   "source": [
    "import pandas as pd\n",
    "import numpy as np"
   ]
  },
  {
   "cell_type": "markdown",
   "metadata": {},
   "source": [
    "Cargamos los datos."
   ]
  },
  {
   "cell_type": "code",
   "execution_count": 2,
   "metadata": {},
   "outputs": [
    {
     "data": {
      "text/html": [
       "<div>\n",
       "<style scoped>\n",
       "    .dataframe tbody tr th:only-of-type {\n",
       "        vertical-align: middle;\n",
       "    }\n",
       "\n",
       "    .dataframe tbody tr th {\n",
       "        vertical-align: top;\n",
       "    }\n",
       "\n",
       "    .dataframe thead th {\n",
       "        text-align: right;\n",
       "    }\n",
       "</style>\n",
       "<table border=\"1\" class=\"dataframe\">\n",
       "  <thead>\n",
       "    <tr style=\"text-align: right;\">\n",
       "      <th></th>\n",
       "      <th>Date</th>\n",
       "      <th>Unnamed: 1</th>\n",
       "      <th>Unnamed: 2</th>\n",
       "      <th>Unnamed: 3</th>\n",
       "      <th>Unnamed: 4</th>\n",
       "      <th>Unnamed: 5</th>\n",
       "      <th>Unnamed: 6</th>\n",
       "    </tr>\n",
       "  </thead>\n",
       "  <tbody>\n",
       "    <tr>\n",
       "      <th>0</th>\n",
       "      <td>2012-01-03 00:00:00+00:00</td>\n",
       "      <td>8732.391602</td>\n",
       "      <td>8732.400391</td>\n",
       "      <td>8743.299805</td>\n",
       "      <td>8597.099609</td>\n",
       "      <td>8739.200195</td>\n",
       "      <td>186689000</td>\n",
       "    </tr>\n",
       "    <tr>\n",
       "      <th>1</th>\n",
       "      <td>2012-01-04 00:00:00+00:00</td>\n",
       "      <td>8581.791016</td>\n",
       "      <td>8581.799805</td>\n",
       "      <td>8701.299805</td>\n",
       "      <td>8526.799805</td>\n",
       "      <td>8683.400391</td>\n",
       "      <td>243803000</td>\n",
       "    </tr>\n",
       "    <tr>\n",
       "      <th>2</th>\n",
       "      <td>2012-01-05 00:00:00+00:00</td>\n",
       "      <td>8329.590820</td>\n",
       "      <td>8329.599609</td>\n",
       "      <td>8598.700195</td>\n",
       "      <td>8301.200195</td>\n",
       "      <td>8598.700195</td>\n",
       "      <td>192704000</td>\n",
       "    </tr>\n",
       "    <tr>\n",
       "      <th>3</th>\n",
       "      <td>2012-01-06 00:00:00+00:00</td>\n",
       "      <td>8289.090820</td>\n",
       "      <td>8289.099609</td>\n",
       "      <td>8445.900391</td>\n",
       "      <td>8233.799805</td>\n",
       "      <td>8369.700195</td>\n",
       "      <td>153765000</td>\n",
       "    </tr>\n",
       "    <tr>\n",
       "      <th>4</th>\n",
       "      <td>2012-01-09 00:00:00+00:00</td>\n",
       "      <td>8278.891602</td>\n",
       "      <td>8278.900391</td>\n",
       "      <td>8404.400391</td>\n",
       "      <td>8250.099609</td>\n",
       "      <td>8314.500000</td>\n",
       "      <td>173948000</td>\n",
       "    </tr>\n",
       "  </tbody>\n",
       "</table>\n",
       "</div>"
      ],
      "text/plain": [
       "                        Date   Unnamed: 1   Unnamed: 2   Unnamed: 3  \\\n",
       "0  2012-01-03 00:00:00+00:00  8732.391602  8732.400391  8743.299805   \n",
       "1  2012-01-04 00:00:00+00:00  8581.791016  8581.799805  8701.299805   \n",
       "2  2012-01-05 00:00:00+00:00  8329.590820  8329.599609  8598.700195   \n",
       "3  2012-01-06 00:00:00+00:00  8289.090820  8289.099609  8445.900391   \n",
       "4  2012-01-09 00:00:00+00:00  8278.891602  8278.900391  8404.400391   \n",
       "\n",
       "    Unnamed: 4   Unnamed: 5  Unnamed: 6  \n",
       "0  8597.099609  8739.200195   186689000  \n",
       "1  8526.799805  8683.400391   243803000  \n",
       "2  8301.200195  8598.700195   192704000  \n",
       "3  8233.799805  8369.700195   153765000  \n",
       "4  8250.099609  8314.500000   173948000  "
      ]
     },
     "execution_count": 2,
     "metadata": {},
     "output_type": "execute_result"
    }
   ],
   "source": [
    "# Carga el archivo CSV omitiendo las dos primeras filas problemáticas.\n",
    "data = pd.read_csv('../data/ibex_data.csv', skiprows=2)\n",
    "\n",
    "data.head()"
   ]
  },
  {
   "cell_type": "markdown",
   "metadata": {},
   "source": [
    "Renombramos las columnas para que coincidan con sus valores."
   ]
  },
  {
   "cell_type": "code",
   "execution_count": 3,
   "metadata": {},
   "outputs": [
    {
     "data": {
      "text/html": [
       "<div>\n",
       "<style scoped>\n",
       "    .dataframe tbody tr th:only-of-type {\n",
       "        vertical-align: middle;\n",
       "    }\n",
       "\n",
       "    .dataframe tbody tr th {\n",
       "        vertical-align: top;\n",
       "    }\n",
       "\n",
       "    .dataframe thead th {\n",
       "        text-align: right;\n",
       "    }\n",
       "</style>\n",
       "<table border=\"1\" class=\"dataframe\">\n",
       "  <thead>\n",
       "    <tr style=\"text-align: right;\">\n",
       "      <th></th>\n",
       "      <th>Date</th>\n",
       "      <th>Adj Close</th>\n",
       "      <th>Close</th>\n",
       "      <th>High</th>\n",
       "      <th>Low</th>\n",
       "      <th>Open</th>\n",
       "      <th>Volume</th>\n",
       "    </tr>\n",
       "  </thead>\n",
       "  <tbody>\n",
       "    <tr>\n",
       "      <th>0</th>\n",
       "      <td>2012-01-03 00:00:00+00:00</td>\n",
       "      <td>8732.391602</td>\n",
       "      <td>8732.400391</td>\n",
       "      <td>8743.299805</td>\n",
       "      <td>8597.099609</td>\n",
       "      <td>8739.200195</td>\n",
       "      <td>186689000</td>\n",
       "    </tr>\n",
       "    <tr>\n",
       "      <th>1</th>\n",
       "      <td>2012-01-04 00:00:00+00:00</td>\n",
       "      <td>8581.791016</td>\n",
       "      <td>8581.799805</td>\n",
       "      <td>8701.299805</td>\n",
       "      <td>8526.799805</td>\n",
       "      <td>8683.400391</td>\n",
       "      <td>243803000</td>\n",
       "    </tr>\n",
       "    <tr>\n",
       "      <th>2</th>\n",
       "      <td>2012-01-05 00:00:00+00:00</td>\n",
       "      <td>8329.590820</td>\n",
       "      <td>8329.599609</td>\n",
       "      <td>8598.700195</td>\n",
       "      <td>8301.200195</td>\n",
       "      <td>8598.700195</td>\n",
       "      <td>192704000</td>\n",
       "    </tr>\n",
       "    <tr>\n",
       "      <th>3</th>\n",
       "      <td>2012-01-06 00:00:00+00:00</td>\n",
       "      <td>8289.090820</td>\n",
       "      <td>8289.099609</td>\n",
       "      <td>8445.900391</td>\n",
       "      <td>8233.799805</td>\n",
       "      <td>8369.700195</td>\n",
       "      <td>153765000</td>\n",
       "    </tr>\n",
       "    <tr>\n",
       "      <th>4</th>\n",
       "      <td>2012-01-09 00:00:00+00:00</td>\n",
       "      <td>8278.891602</td>\n",
       "      <td>8278.900391</td>\n",
       "      <td>8404.400391</td>\n",
       "      <td>8250.099609</td>\n",
       "      <td>8314.500000</td>\n",
       "      <td>173948000</td>\n",
       "    </tr>\n",
       "  </tbody>\n",
       "</table>\n",
       "</div>"
      ],
      "text/plain": [
       "                        Date    Adj Close        Close         High  \\\n",
       "0  2012-01-03 00:00:00+00:00  8732.391602  8732.400391  8743.299805   \n",
       "1  2012-01-04 00:00:00+00:00  8581.791016  8581.799805  8701.299805   \n",
       "2  2012-01-05 00:00:00+00:00  8329.590820  8329.599609  8598.700195   \n",
       "3  2012-01-06 00:00:00+00:00  8289.090820  8289.099609  8445.900391   \n",
       "4  2012-01-09 00:00:00+00:00  8278.891602  8278.900391  8404.400391   \n",
       "\n",
       "           Low         Open     Volume  \n",
       "0  8597.099609  8739.200195  186689000  \n",
       "1  8526.799805  8683.400391  243803000  \n",
       "2  8301.200195  8598.700195  192704000  \n",
       "3  8233.799805  8369.700195  153765000  \n",
       "4  8250.099609  8314.500000  173948000  "
      ]
     },
     "execution_count": 3,
     "metadata": {},
     "output_type": "execute_result"
    }
   ],
   "source": [
    "# Renombra las columnas para que tengan sentido.\n",
    "data.columns = ['Date', 'Adj Close', 'Close', 'High', 'Low', 'Open', 'Volume']\n",
    "\n",
    "data.head()"
   ]
  },
  {
   "cell_type": "markdown",
   "metadata": {},
   "source": [
    "Vemos los tipos de datos."
   ]
  },
  {
   "cell_type": "code",
   "execution_count": 4,
   "metadata": {},
   "outputs": [
    {
     "data": {
      "text/plain": [
       "Date          object\n",
       "Adj Close    float64\n",
       "Close        float64\n",
       "High         float64\n",
       "Low          float64\n",
       "Open         float64\n",
       "Volume         int64\n",
       "dtype: object"
      ]
     },
     "execution_count": 4,
     "metadata": {},
     "output_type": "execute_result"
    }
   ],
   "source": [
    "data.dtypes"
   ]
  },
  {
   "cell_type": "markdown",
   "metadata": {},
   "source": [
    "Convertimos la columna `Date` a objeto datetime y la convertimos en el índice del DataFrame, una práctica común para hacer series temporales. Además eliminamos la hora de la fecha ya que no es relevante."
   ]
  },
  {
   "cell_type": "code",
   "execution_count": 5,
   "metadata": {},
   "outputs": [
    {
     "data": {
      "text/html": [
       "<div>\n",
       "<style scoped>\n",
       "    .dataframe tbody tr th:only-of-type {\n",
       "        vertical-align: middle;\n",
       "    }\n",
       "\n",
       "    .dataframe tbody tr th {\n",
       "        vertical-align: top;\n",
       "    }\n",
       "\n",
       "    .dataframe thead th {\n",
       "        text-align: right;\n",
       "    }\n",
       "</style>\n",
       "<table border=\"1\" class=\"dataframe\">\n",
       "  <thead>\n",
       "    <tr style=\"text-align: right;\">\n",
       "      <th></th>\n",
       "      <th>Adj Close</th>\n",
       "      <th>Close</th>\n",
       "      <th>High</th>\n",
       "      <th>Low</th>\n",
       "      <th>Open</th>\n",
       "      <th>Volume</th>\n",
       "    </tr>\n",
       "    <tr>\n",
       "      <th>Date</th>\n",
       "      <th></th>\n",
       "      <th></th>\n",
       "      <th></th>\n",
       "      <th></th>\n",
       "      <th></th>\n",
       "      <th></th>\n",
       "    </tr>\n",
       "  </thead>\n",
       "  <tbody>\n",
       "    <tr>\n",
       "      <th>2012-01-03</th>\n",
       "      <td>8732.391602</td>\n",
       "      <td>8732.400391</td>\n",
       "      <td>8743.299805</td>\n",
       "      <td>8597.099609</td>\n",
       "      <td>8739.200195</td>\n",
       "      <td>186689000</td>\n",
       "    </tr>\n",
       "    <tr>\n",
       "      <th>2012-01-04</th>\n",
       "      <td>8581.791016</td>\n",
       "      <td>8581.799805</td>\n",
       "      <td>8701.299805</td>\n",
       "      <td>8526.799805</td>\n",
       "      <td>8683.400391</td>\n",
       "      <td>243803000</td>\n",
       "    </tr>\n",
       "    <tr>\n",
       "      <th>2012-01-05</th>\n",
       "      <td>8329.590820</td>\n",
       "      <td>8329.599609</td>\n",
       "      <td>8598.700195</td>\n",
       "      <td>8301.200195</td>\n",
       "      <td>8598.700195</td>\n",
       "      <td>192704000</td>\n",
       "    </tr>\n",
       "    <tr>\n",
       "      <th>2012-01-06</th>\n",
       "      <td>8289.090820</td>\n",
       "      <td>8289.099609</td>\n",
       "      <td>8445.900391</td>\n",
       "      <td>8233.799805</td>\n",
       "      <td>8369.700195</td>\n",
       "      <td>153765000</td>\n",
       "    </tr>\n",
       "    <tr>\n",
       "      <th>2012-01-09</th>\n",
       "      <td>8278.891602</td>\n",
       "      <td>8278.900391</td>\n",
       "      <td>8404.400391</td>\n",
       "      <td>8250.099609</td>\n",
       "      <td>8314.500000</td>\n",
       "      <td>173948000</td>\n",
       "    </tr>\n",
       "  </tbody>\n",
       "</table>\n",
       "</div>"
      ],
      "text/plain": [
       "              Adj Close        Close         High          Low         Open  \\\n",
       "Date                                                                          \n",
       "2012-01-03  8732.391602  8732.400391  8743.299805  8597.099609  8739.200195   \n",
       "2012-01-04  8581.791016  8581.799805  8701.299805  8526.799805  8683.400391   \n",
       "2012-01-05  8329.590820  8329.599609  8598.700195  8301.200195  8598.700195   \n",
       "2012-01-06  8289.090820  8289.099609  8445.900391  8233.799805  8369.700195   \n",
       "2012-01-09  8278.891602  8278.900391  8404.400391  8250.099609  8314.500000   \n",
       "\n",
       "               Volume  \n",
       "Date                   \n",
       "2012-01-03  186689000  \n",
       "2012-01-04  243803000  \n",
       "2012-01-05  192704000  \n",
       "2012-01-06  153765000  \n",
       "2012-01-09  173948000  "
      ]
     },
     "execution_count": 5,
     "metadata": {},
     "output_type": "execute_result"
    }
   ],
   "source": [
    "# Convertimos la columna 'Date' en un índice de fecha\n",
    "data['Date'] = pd.to_datetime(data['Date'])\n",
    "data['Date'] = data['Date'].dt.date  # Extrae solo la fecha (sin horas)\n",
    "data.set_index('Date', inplace=True)\n",
    "\n",
    "data.head()"
   ]
  },
  {
   "cell_type": "markdown",
   "metadata": {},
   "source": [
    "Vemos si hay datos nulos."
   ]
  },
  {
   "cell_type": "code",
   "execution_count": 6,
   "metadata": {},
   "outputs": [
    {
     "data": {
      "text/plain": [
       "Adj Close    0\n",
       "Close        0\n",
       "High         0\n",
       "Low          0\n",
       "Open         0\n",
       "Volume       0\n",
       "dtype: int64"
      ]
     },
     "execution_count": 6,
     "metadata": {},
     "output_type": "execute_result"
    }
   ],
   "source": [
    "data.isnull().sum()"
   ]
  },
  {
   "cell_type": "markdown",
   "metadata": {},
   "source": [
    "Aseguramos que no haya habido errores al importar los datos y que no haya duplicados."
   ]
  },
  {
   "cell_type": "code",
   "execution_count": 7,
   "metadata": {},
   "outputs": [
    {
     "data": {
      "text/plain": [
       "0"
      ]
     },
     "execution_count": 7,
     "metadata": {},
     "output_type": "execute_result"
    }
   ],
   "source": [
    "data.duplicated().sum()"
   ]
  },
  {
   "cell_type": "markdown",
   "metadata": {},
   "source": [
    "Consideramos una columna clave `Adj Close` ya que es útil para un análisis a largo plazo porque muestra el valor real, considerando los dividendos y otras operaciones corporativas.\n",
    "\n",
    "Ahora que el análisis ha terminado, exportamos los datos limpios."
   ]
  },
  {
   "cell_type": "code",
   "execution_count": 8,
   "metadata": {},
   "outputs": [],
   "source": [
    "data.to_csv('../data/ibex_data_clean.csv')"
   ]
  }
 ],
 "metadata": {
  "kernelspec": {
   "display_name": "base",
   "language": "python",
   "name": "python3"
  },
  "language_info": {
   "codemirror_mode": {
    "name": "ipython",
    "version": 3
   },
   "file_extension": ".py",
   "mimetype": "text/x-python",
   "name": "python",
   "nbconvert_exporter": "python",
   "pygments_lexer": "ipython3",
   "version": "3.9.12"
  },
  "vscode": {
   "interpreter": {
    "hash": "69e361201045b1e54ca5451d64ae6cbebd676041fb777305b3d09b1c4fb2d759"
   }
  }
 },
 "nbformat": 4,
 "nbformat_minor": 2
}
