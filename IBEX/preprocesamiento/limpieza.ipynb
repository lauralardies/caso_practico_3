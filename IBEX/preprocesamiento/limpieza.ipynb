{
 "cells": [
  {
   "cell_type": "markdown",
   "metadata": {},
   "source": [
    "# Preprocesamiento de datos\n",
    "\n",
    "En este cuaderno limpiaremos los datos que hemos obtenido haciendo webscrapping.\n",
    "\n",
    "Primero importamos librerías."
   ]
  },
  {
   "cell_type": "code",
   "execution_count": 13,
   "metadata": {},
   "outputs": [],
   "source": [
    "import pandas as pd"
   ]
  },
  {
   "cell_type": "markdown",
   "metadata": {},
   "source": [
    "Cargamos los datos."
   ]
  },
  {
   "cell_type": "code",
   "execution_count": 14,
   "metadata": {},
   "outputs": [
    {
     "data": {
      "text/html": [
       "<div>\n",
       "<style scoped>\n",
       "    .dataframe tbody tr th:only-of-type {\n",
       "        vertical-align: middle;\n",
       "    }\n",
       "\n",
       "    .dataframe tbody tr th {\n",
       "        vertical-align: top;\n",
       "    }\n",
       "\n",
       "    .dataframe thead th {\n",
       "        text-align: right;\n",
       "    }\n",
       "</style>\n",
       "<table border=\"1\" class=\"dataframe\">\n",
       "  <thead>\n",
       "    <tr style=\"text-align: right;\">\n",
       "      <th></th>\n",
       "      <th>Date</th>\n",
       "      <th>Unnamed: 1</th>\n",
       "      <th>Unnamed: 2</th>\n",
       "      <th>Unnamed: 3</th>\n",
       "      <th>Unnamed: 4</th>\n",
       "      <th>Unnamed: 5</th>\n",
       "      <th>Unnamed: 6</th>\n",
       "    </tr>\n",
       "  </thead>\n",
       "  <tbody>\n",
       "    <tr>\n",
       "      <th>0</th>\n",
       "      <td>2012-01-03 00:00:00+00:00</td>\n",
       "      <td>8732.391602</td>\n",
       "      <td>8732.400391</td>\n",
       "      <td>8743.299805</td>\n",
       "      <td>8597.099609</td>\n",
       "      <td>8739.200195</td>\n",
       "      <td>186689000</td>\n",
       "    </tr>\n",
       "    <tr>\n",
       "      <th>1</th>\n",
       "      <td>2012-01-04 00:00:00+00:00</td>\n",
       "      <td>8581.791016</td>\n",
       "      <td>8581.799805</td>\n",
       "      <td>8701.299805</td>\n",
       "      <td>8526.799805</td>\n",
       "      <td>8683.400391</td>\n",
       "      <td>243803000</td>\n",
       "    </tr>\n",
       "    <tr>\n",
       "      <th>2</th>\n",
       "      <td>2012-01-05 00:00:00+00:00</td>\n",
       "      <td>8329.590820</td>\n",
       "      <td>8329.599609</td>\n",
       "      <td>8598.700195</td>\n",
       "      <td>8301.200195</td>\n",
       "      <td>8598.700195</td>\n",
       "      <td>192704000</td>\n",
       "    </tr>\n",
       "    <tr>\n",
       "      <th>3</th>\n",
       "      <td>2012-01-06 00:00:00+00:00</td>\n",
       "      <td>8289.090820</td>\n",
       "      <td>8289.099609</td>\n",
       "      <td>8445.900391</td>\n",
       "      <td>8233.799805</td>\n",
       "      <td>8369.700195</td>\n",
       "      <td>153765000</td>\n",
       "    </tr>\n",
       "    <tr>\n",
       "      <th>4</th>\n",
       "      <td>2012-01-09 00:00:00+00:00</td>\n",
       "      <td>8278.891602</td>\n",
       "      <td>8278.900391</td>\n",
       "      <td>8404.400391</td>\n",
       "      <td>8250.099609</td>\n",
       "      <td>8314.500000</td>\n",
       "      <td>173948000</td>\n",
       "    </tr>\n",
       "  </tbody>\n",
       "</table>\n",
       "</div>"
      ],
      "text/plain": [
       "                        Date   Unnamed: 1   Unnamed: 2   Unnamed: 3  \\\n",
       "0  2012-01-03 00:00:00+00:00  8732.391602  8732.400391  8743.299805   \n",
       "1  2012-01-04 00:00:00+00:00  8581.791016  8581.799805  8701.299805   \n",
       "2  2012-01-05 00:00:00+00:00  8329.590820  8329.599609  8598.700195   \n",
       "3  2012-01-06 00:00:00+00:00  8289.090820  8289.099609  8445.900391   \n",
       "4  2012-01-09 00:00:00+00:00  8278.891602  8278.900391  8404.400391   \n",
       "\n",
       "    Unnamed: 4   Unnamed: 5  Unnamed: 6  \n",
       "0  8597.099609  8739.200195   186689000  \n",
       "1  8526.799805  8683.400391   243803000  \n",
       "2  8301.200195  8598.700195   192704000  \n",
       "3  8233.799805  8369.700195   153765000  \n",
       "4  8250.099609  8314.500000   173948000  "
      ]
     },
     "execution_count": 14,
     "metadata": {},
     "output_type": "execute_result"
    }
   ],
   "source": [
    "# Carga el archivo CSV omitiendo las dos primeras filas problemáticas.\n",
    "data = pd.read_csv('../data/ibex_data.csv', skiprows=2)\n",
    "\n",
    "data.head()"
   ]
  },
  {
   "cell_type": "markdown",
   "metadata": {},
   "source": [
    "Renombramos las columnas para que coincidan con sus valores."
   ]
  },
  {
   "cell_type": "code",
   "execution_count": 15,
   "metadata": {},
   "outputs": [
    {
     "data": {
      "text/html": [
       "<div>\n",
       "<style scoped>\n",
       "    .dataframe tbody tr th:only-of-type {\n",
       "        vertical-align: middle;\n",
       "    }\n",
       "\n",
       "    .dataframe tbody tr th {\n",
       "        vertical-align: top;\n",
       "    }\n",
       "\n",
       "    .dataframe thead th {\n",
       "        text-align: right;\n",
       "    }\n",
       "</style>\n",
       "<table border=\"1\" class=\"dataframe\">\n",
       "  <thead>\n",
       "    <tr style=\"text-align: right;\">\n",
       "      <th></th>\n",
       "      <th>Date</th>\n",
       "      <th>Adj Close</th>\n",
       "      <th>Close</th>\n",
       "      <th>High</th>\n",
       "      <th>Low</th>\n",
       "      <th>Open</th>\n",
       "      <th>Volume</th>\n",
       "    </tr>\n",
       "  </thead>\n",
       "  <tbody>\n",
       "    <tr>\n",
       "      <th>0</th>\n",
       "      <td>2012-01-03 00:00:00+00:00</td>\n",
       "      <td>8732.391602</td>\n",
       "      <td>8732.400391</td>\n",
       "      <td>8743.299805</td>\n",
       "      <td>8597.099609</td>\n",
       "      <td>8739.200195</td>\n",
       "      <td>186689000</td>\n",
       "    </tr>\n",
       "    <tr>\n",
       "      <th>1</th>\n",
       "      <td>2012-01-04 00:00:00+00:00</td>\n",
       "      <td>8581.791016</td>\n",
       "      <td>8581.799805</td>\n",
       "      <td>8701.299805</td>\n",
       "      <td>8526.799805</td>\n",
       "      <td>8683.400391</td>\n",
       "      <td>243803000</td>\n",
       "    </tr>\n",
       "    <tr>\n",
       "      <th>2</th>\n",
       "      <td>2012-01-05 00:00:00+00:00</td>\n",
       "      <td>8329.590820</td>\n",
       "      <td>8329.599609</td>\n",
       "      <td>8598.700195</td>\n",
       "      <td>8301.200195</td>\n",
       "      <td>8598.700195</td>\n",
       "      <td>192704000</td>\n",
       "    </tr>\n",
       "    <tr>\n",
       "      <th>3</th>\n",
       "      <td>2012-01-06 00:00:00+00:00</td>\n",
       "      <td>8289.090820</td>\n",
       "      <td>8289.099609</td>\n",
       "      <td>8445.900391</td>\n",
       "      <td>8233.799805</td>\n",
       "      <td>8369.700195</td>\n",
       "      <td>153765000</td>\n",
       "    </tr>\n",
       "    <tr>\n",
       "      <th>4</th>\n",
       "      <td>2012-01-09 00:00:00+00:00</td>\n",
       "      <td>8278.891602</td>\n",
       "      <td>8278.900391</td>\n",
       "      <td>8404.400391</td>\n",
       "      <td>8250.099609</td>\n",
       "      <td>8314.500000</td>\n",
       "      <td>173948000</td>\n",
       "    </tr>\n",
       "  </tbody>\n",
       "</table>\n",
       "</div>"
      ],
      "text/plain": [
       "                        Date    Adj Close        Close         High  \\\n",
       "0  2012-01-03 00:00:00+00:00  8732.391602  8732.400391  8743.299805   \n",
       "1  2012-01-04 00:00:00+00:00  8581.791016  8581.799805  8701.299805   \n",
       "2  2012-01-05 00:00:00+00:00  8329.590820  8329.599609  8598.700195   \n",
       "3  2012-01-06 00:00:00+00:00  8289.090820  8289.099609  8445.900391   \n",
       "4  2012-01-09 00:00:00+00:00  8278.891602  8278.900391  8404.400391   \n",
       "\n",
       "           Low         Open     Volume  \n",
       "0  8597.099609  8739.200195  186689000  \n",
       "1  8526.799805  8683.400391  243803000  \n",
       "2  8301.200195  8598.700195  192704000  \n",
       "3  8233.799805  8369.700195  153765000  \n",
       "4  8250.099609  8314.500000  173948000  "
      ]
     },
     "execution_count": 15,
     "metadata": {},
     "output_type": "execute_result"
    }
   ],
   "source": [
    "# Renombra las columnas para que tengan sentido.\n",
    "data.columns = ['Date', 'Adj Close', 'Close', 'High', 'Low', 'Open', 'Volume']\n",
    "\n",
    "data.head()"
   ]
  },
  {
   "cell_type": "markdown",
   "metadata": {},
   "source": [
    "Vemos los tipos de datos."
   ]
  },
  {
   "cell_type": "code",
   "execution_count": 16,
   "metadata": {},
   "outputs": [
    {
     "data": {
      "text/plain": [
       "Date          object\n",
       "Adj Close    float64\n",
       "Close        float64\n",
       "High         float64\n",
       "Low          float64\n",
       "Open         float64\n",
       "Volume         int64\n",
       "dtype: object"
      ]
     },
     "execution_count": 16,
     "metadata": {},
     "output_type": "execute_result"
    }
   ],
   "source": [
    "data.dtypes"
   ]
  },
  {
   "cell_type": "code",
   "execution_count": 17,
   "metadata": {},
   "outputs": [
    {
     "data": {
      "text/plain": [
       "Date         datetime64[ns, UTC]\n",
       "Adj Close                float64\n",
       "Close                    float64\n",
       "High                     float64\n",
       "Low                      float64\n",
       "Open                     float64\n",
       "Volume                     int64\n",
       "dtype: object"
      ]
     },
     "execution_count": 17,
     "metadata": {},
     "output_type": "execute_result"
    }
   ],
   "source": [
    "# Convertimos la columna 'Date' en un índice de fecha\n",
    "data['Date'] = pd.to_datetime(data['Date'])\n",
    "\n",
    "data.dtypes"
   ]
  },
  {
   "cell_type": "markdown",
   "metadata": {},
   "source": [
    "Vemos si hay datos nulos."
   ]
  },
  {
   "cell_type": "code",
   "execution_count": 18,
   "metadata": {},
   "outputs": [
    {
     "data": {
      "text/plain": [
       "Date         0\n",
       "Adj Close    0\n",
       "Close        0\n",
       "High         0\n",
       "Low          0\n",
       "Open         0\n",
       "Volume       0\n",
       "dtype: int64"
      ]
     },
     "execution_count": 18,
     "metadata": {},
     "output_type": "execute_result"
    }
   ],
   "source": [
    "data.isnull().sum()"
   ]
  },
  {
   "cell_type": "markdown",
   "metadata": {},
   "source": [
    "Aseguramos que no haya habido errores al importar los datos y que no haya duplicados."
   ]
  },
  {
   "cell_type": "code",
   "execution_count": 20,
   "metadata": {},
   "outputs": [
    {
     "data": {
      "text/plain": [
       "0"
      ]
     },
     "execution_count": 20,
     "metadata": {},
     "output_type": "execute_result"
    }
   ],
   "source": [
    "data.duplicated().sum()"
   ]
  }
 ],
 "metadata": {
  "kernelspec": {
   "display_name": "base",
   "language": "python",
   "name": "python3"
  },
  "language_info": {
   "codemirror_mode": {
    "name": "ipython",
    "version": 3
   },
   "file_extension": ".py",
   "mimetype": "text/x-python",
   "name": "python",
   "nbconvert_exporter": "python",
   "pygments_lexer": "ipython3",
   "version": "3.9.12"
  }
 },
 "nbformat": 4,
 "nbformat_minor": 2
}
